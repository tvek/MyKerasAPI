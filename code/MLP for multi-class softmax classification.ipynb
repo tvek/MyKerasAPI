{
 "cells": [
  {
   "cell_type": "markdown",
   "metadata": {},
   "source": [
    "# Hello World"
   ]
  },
  {
   "cell_type": "markdown",
   "metadata": {},
   "source": [
    "### Setting Up Environment\n",
    "1. Install Anaconda\n",
    "2. Install Keras in Anaconda\n",
    "3. Execute the program from now on"
   ]
  },
  {
   "cell_type": "markdown",
   "metadata": {},
   "source": [
    "### Imports"
   ]
  },
  {
   "cell_type": "code",
   "execution_count": 1,
   "metadata": {
    "scrolled": true
   },
   "outputs": [
    {
     "name": "stderr",
     "output_type": "stream",
     "text": [
      "Using TensorFlow backend.\n"
     ]
    }
   ],
   "source": [
    "from keras.models import Sequential \n",
    "from keras.layers import Dense, Activation "
   ]
  },
  {
   "cell_type": "markdown",
   "metadata": {},
   "source": [
    "### Configuration"
   ]
  },
  {
   "cell_type": "code",
   "execution_count": 2,
   "metadata": {},
   "outputs": [],
   "source": [
    "# Table\n",
    "input_field_num = 100\n",
    "output_field_num = 10\n",
    "total_entries = 1000"
   ]
  },
  {
   "cell_type": "markdown",
   "metadata": {},
   "source": [
    "### Creating Model"
   ]
  },
  {
   "cell_type": "code",
   "execution_count": 3,
   "metadata": {},
   "outputs": [
    {
     "name": "stdout",
     "output_type": "stream",
     "text": [
      "WARNING:tensorflow:From /anaconda3/lib/python3.7/site-packages/tensorflow/python/framework/op_def_library.py:263: colocate_with (from tensorflow.python.framework.ops) is deprecated and will be removed in a future version.\n",
      "Instructions for updating:\n",
      "Colocations handled automatically by placer.\n"
     ]
    }
   ],
   "source": [
    "model = Sequential([ \n",
    "    Dense(total_entries, input_shape=(input_field_num,)),\n",
    "    Activation('relu'),\n",
    "    Dense(output_field_num),\n",
    "    Activation('softmax'),\n",
    "])"
   ]
  },
  {
   "cell_type": "markdown",
   "metadata": {},
   "source": [
    "### Compiling Model/Configuring Model"
   ]
  },
  {
   "cell_type": "code",
   "execution_count": 4,
   "metadata": {},
   "outputs": [],
   "source": [
    "model.compile(optimizer='rmsprop',\n",
    "    loss='categorical_crossentropy',\n",
    "    metrics=['accuracy'])"
   ]
  },
  {
   "cell_type": "markdown",
   "metadata": {},
   "source": [
    "### Data Preparation"
   ]
  },
  {
   "cell_type": "code",
   "execution_count": 5,
   "metadata": {},
   "outputs": [
    {
     "name": "stdout",
     "output_type": "stream",
     "text": [
      "[[0.58524933 0.70912371 0.86134789 ... 0.62282582 0.71189937 0.65258966]\n",
      " [0.48770156 0.83396641 0.02436934 ... 0.60268127 0.20839769 0.16981335]\n",
      " [0.45678772 0.2626445  0.16758051 ... 0.87623643 0.61912386 0.8753501 ]\n",
      " ...\n",
      " [0.68855043 0.10317686 0.99417426 ... 0.61696026 0.30799618 0.80723674]\n",
      " [0.63519196 0.27822622 0.82665258 ... 0.78550923 0.67639186 0.92853096]\n",
      " [0.29464999 0.95608077 0.11674296 ... 0.84946329 0.65010128 0.22826994]]\n",
      "(1000, 100)\n",
      "[[1 1 0 ... 1 0 0]\n",
      " [1 1 0 ... 1 0 0]\n",
      " [1 1 0 ... 0 1 0]\n",
      " ...\n",
      " [0 0 1 ... 1 0 0]\n",
      " [0 0 0 ... 0 1 1]\n",
      " [1 0 0 ... 1 0 1]]\n",
      "(1000, 10)\n"
     ]
    }
   ],
   "source": [
    "import numpy as np\n",
    "data = np.random.random((total_entries, input_field_num))\n",
    "labels = np.random.randint(2, size=(total_entries, output_field_num))\n",
    "print(data)\n",
    "print(data.shape)\n",
    "print(labels)\n",
    "print(labels.shape)"
   ]
  },
  {
   "cell_type": "markdown",
   "metadata": {},
   "source": [
    "### Training the model"
   ]
  },
  {
   "cell_type": "code",
   "execution_count": 6,
   "metadata": {},
   "outputs": [
    {
     "name": "stdout",
     "output_type": "stream",
     "text": [
      "WARNING:tensorflow:From /anaconda3/lib/python3.7/site-packages/tensorflow/python/ops/math_ops.py:3066: to_int32 (from tensorflow.python.ops.math_ops) is deprecated and will be removed in a future version.\n",
      "Instructions for updating:\n",
      "Use tf.cast instead.\n",
      "Epoch 1/10\n",
      "1000/1000 [==============================] - 1s 695us/step - loss: 11.7648 - acc: 0.0810\n",
      "Epoch 2/10\n",
      "1000/1000 [==============================] - 0s 185us/step - loss: 11.5927 - acc: 0.0850\n",
      "Epoch 3/10\n",
      "1000/1000 [==============================] - 0s 259us/step - loss: 11.5515 - acc: 0.1290\n",
      "Epoch 4/10\n",
      "1000/1000 [==============================] - 0s 323us/step - loss: 11.5208 - acc: 0.1030\n",
      "Epoch 5/10\n",
      "1000/1000 [==============================] - 0s 211us/step - loss: 11.4802 - acc: 0.1100\n",
      "Epoch 6/10\n",
      "1000/1000 [==============================] - 0s 183us/step - loss: 11.4199 - acc: 0.1540\n",
      "Epoch 7/10\n",
      "1000/1000 [==============================] - 0s 213us/step - loss: 11.3982 - acc: 0.1520\n",
      "Epoch 8/10\n",
      "1000/1000 [==============================] - 0s 202us/step - loss: 11.3539 - acc: 0.1390\n",
      "Epoch 9/10\n",
      "1000/1000 [==============================] - 0s 224us/step - loss: 11.3094 - acc: 0.1330\n",
      "Epoch 10/10\n",
      "1000/1000 [==============================] - 0s 239us/step - loss: 11.2680 - acc: 0.1610\n"
     ]
    },
    {
     "data": {
      "text/plain": [
       "<keras.callbacks.History at 0xb3c8687b8>"
      ]
     },
     "execution_count": 6,
     "metadata": {},
     "output_type": "execute_result"
    }
   ],
   "source": [
    "model.fit(data, labels, epochs=10, batch_size=32)"
   ]
  },
  {
   "cell_type": "markdown",
   "metadata": {},
   "source": [
    "Program Completed"
   ]
  }
 ],
 "metadata": {
  "kernelspec": {
   "display_name": "Python 3",
   "language": "python",
   "name": "python3"
  },
  "language_info": {
   "codemirror_mode": {
    "name": "ipython",
    "version": 3
   },
   "file_extension": ".py",
   "mimetype": "text/x-python",
   "name": "python",
   "nbconvert_exporter": "python",
   "pygments_lexer": "ipython3",
   "version": "3.7.3"
  }
 },
 "nbformat": 4,
 "nbformat_minor": 2
}
