{
 "cells": [
  {
   "cell_type": "markdown",
   "metadata": {},
   "source": [
    "# Multi Layer Perceptron for multi-class softmax classification"
   ]
  },
  {
   "cell_type": "markdown",
   "metadata": {},
   "source": [
    "### Setting Up Environment\n",
    "1. Install Anaconda\n",
    "2. Install Keras in Anaconda\n",
    "3. Execute the program from now on"
   ]
  },
  {
   "cell_type": "markdown",
   "metadata": {},
   "source": [
    "### Imports"
   ]
  },
  {
   "cell_type": "code",
   "execution_count": 1,
   "metadata": {
    "scrolled": true
   },
   "outputs": [
    {
     "name": "stderr",
     "output_type": "stream",
     "text": [
      "Using TensorFlow backend.\n"
     ]
    }
   ],
   "source": [
    "import numpy as np\n",
    "import keras\n",
    "from keras.models import Sequential\n",
    "from keras.layers import Dense, Dropout \n",
    "from keras.optimizers import SGD"
   ]
  },
  {
   "cell_type": "markdown",
   "metadata": {},
   "source": [
    "### Configuration"
   ]
  },
  {
   "cell_type": "code",
   "execution_count": 2,
   "metadata": {},
   "outputs": [],
   "source": [
    "# Table\n",
    "input_field_num = 20\n",
    "output_field_num = 1\n",
    "train_entries = 1000\n",
    "test_entries = 100"
   ]
  },
  {
   "cell_type": "markdown",
   "metadata": {},
   "source": [
    "### Creating Model"
   ]
  },
  {
   "cell_type": "code",
   "execution_count": 3,
   "metadata": {},
   "outputs": [
    {
     "name": "stdout",
     "output_type": "stream",
     "text": [
      "WARNING:tensorflow:From /anaconda3/lib/python3.7/site-packages/tensorflow/python/framework/op_def_library.py:263: colocate_with (from tensorflow.python.framework.ops) is deprecated and will be removed in a future version.\n",
      "Instructions for updating:\n",
      "Colocations handled automatically by placer.\n",
      "WARNING:tensorflow:From /anaconda3/lib/python3.7/site-packages/keras/backend/tensorflow_backend.py:3445: calling dropout (from tensorflow.python.ops.nn_ops) with keep_prob is deprecated and will be removed in a future version.\n",
      "Instructions for updating:\n",
      "Please use `rate` instead of `keep_prob`. Rate should be set to `rate = 1 - keep_prob`.\n"
     ]
    }
   ],
   "source": [
    "model = Sequential()\n",
    "model.add(Dense(64, activation='relu', input_dim=20))\n",
    "model.add(Dropout(0.5))\n",
    "model.add(Dense(64, activation='relu'))\n",
    "model.add(Dropout(0.5))\n",
    "model.add(Dense(10, activation='softmax'))"
   ]
  },
  {
   "cell_type": "markdown",
   "metadata": {},
   "source": [
    "### Compiling Model/Configuring Model"
   ]
  },
  {
   "cell_type": "code",
   "execution_count": 4,
   "metadata": {},
   "outputs": [],
   "source": [
    "sgd = SGD(lr=0.01, decay=1e-6, momentum=0.9, nesterov=True)\n",
    "model.compile(optimizer=sgd,\n",
    "    loss='categorical_crossentropy',\n",
    "    metrics=['accuracy'])"
   ]
  },
  {
   "cell_type": "markdown",
   "metadata": {},
   "source": [
    "### Data Preparation"
   ]
  },
  {
   "cell_type": "code",
   "execution_count": 5,
   "metadata": {},
   "outputs": [
    {
     "name": "stdout",
     "output_type": "stream",
     "text": [
      "[[0.93071995 0.24419149 0.71072846 0.48052884 0.1789331  0.37635606\n",
      "  0.227628   0.88556762 0.63061891 0.8488644  0.81781845 0.76724197\n",
      "  0.35514029 0.44029839 0.13363252 0.54952303 0.03358959 0.65380292\n",
      "  0.06481537 0.41410052]\n",
      " [0.76632505 0.7046938  0.13114667 0.22395714 0.76638954 0.57857601\n",
      "  0.79355793 0.76684985 0.2670246  0.56103869 0.10729454 0.45516479\n",
      "  0.92871791 0.93269923 0.88941682 0.14694854 0.86324267 0.56802622\n",
      "  0.84572139 0.58742944]\n",
      " [0.117531   0.37329946 0.54279935 0.58146397 0.71765322 0.34146462\n",
      "  0.17059527 0.54998228 0.53284978 0.35938528 0.82190036 0.09328452\n",
      "  0.01087579 0.48132809 0.79843106 0.75760289 0.46102594 0.06589237\n",
      "  0.81603227 0.26490242]\n",
      " [0.77596233 0.2153471  0.94526859 0.29897777 0.67076327 0.00953352\n",
      "  0.88051835 0.86238895 0.96498672 0.61386165 0.91290789 0.76317245\n",
      "  0.05824973 0.73010353 0.34037816 0.11143429 0.18928402 0.0903826\n",
      "  0.75848569 0.47795802]]\n",
      "(1000, 20)\n",
      "[[0. 0. 0. 0. 0. 1. 0. 0. 0. 0.]\n",
      " [0. 0. 0. 0. 0. 0. 0. 0. 0. 1.]\n",
      " [0. 0. 0. 0. 0. 0. 0. 0. 0. 1.]\n",
      " [0. 0. 0. 0. 0. 0. 0. 0. 0. 1.]]\n",
      "(1000, 10)\n",
      "[[0.83257505 0.33474476 0.24010202 0.21952552 0.03419995 0.87391265\n",
      "  0.95113094 0.10457262 0.99695481 0.02959545 0.73488149 0.94491072\n",
      "  0.93952925 0.5598508  0.86203382 0.43724393 0.58469425 0.46882069\n",
      "  0.38957434 0.03501738]\n",
      " [0.53081168 0.46636648 0.36517938 0.04552233 0.55378057 0.05607634\n",
      "  0.03437736 0.83452301 0.44684842 0.22786524 0.73561456 0.91933438\n",
      "  0.34182257 0.3178855  0.65532705 0.66342953 0.58649755 0.50961822\n",
      "  0.84112578 0.54038936]\n",
      " [0.99288764 0.75562451 0.83577948 0.75405685 0.81156951 0.29422845\n",
      "  0.90342424 0.78678857 0.94432243 0.05457389 0.1190091  0.42498567\n",
      "  0.8333537  0.55696888 0.32361908 0.3056266  0.40021652 0.36821028\n",
      "  0.86932562 0.31740902]\n",
      " [0.8889797  0.74331223 0.09232291 0.61449066 0.05588364 0.87108176\n",
      "  0.05947878 0.74633792 0.82376468 0.46023747 0.40370976 0.31213961\n",
      "  0.41703268 0.99045168 0.61783524 0.79773109 0.13869028 0.16511759\n",
      "  0.04279808 0.9367194 ]]\n",
      "(100, 20)\n",
      "[[0. 1. 0. 0. 0. 0. 0. 0. 0. 0.]\n",
      " [0. 0. 0. 1. 0. 0. 0. 0. 0. 0.]\n",
      " [0. 0. 0. 0. 0. 0. 0. 0. 1. 0.]\n",
      " [0. 0. 0. 0. 1. 0. 0. 0. 0. 0.]]\n",
      "(100, 10)\n"
     ]
    }
   ],
   "source": [
    "x_train = np.random.random((train_entries, input_field_num))\n",
    "y_train = keras.utils.to_categorical(np.random.randint(10, size=(train_entries, 1)), num_classes=10)\n",
    "x_test = np.random.random((test_entries, input_field_num))\n",
    "y_test = keras.utils.to_categorical(np.random.randint(10, size=(test_entries, 1)), num_classes=10)\n",
    "print(x_train[1:5])\n",
    "print(x_train.shape)\n",
    "print(y_train[1:5])\n",
    "print(y_train.shape)\n",
    "print(x_test[1:5])\n",
    "print(x_test.shape)\n",
    "print(y_test[1:5])\n",
    "print(y_test.shape)"
   ]
  },
  {
   "cell_type": "markdown",
   "metadata": {},
   "source": [
    "### Training the model"
   ]
  },
  {
   "cell_type": "code",
   "execution_count": 6,
   "metadata": {},
   "outputs": [
    {
     "name": "stdout",
     "output_type": "stream",
     "text": [
      "WARNING:tensorflow:From /anaconda3/lib/python3.7/site-packages/tensorflow/python/ops/math_ops.py:3066: to_int32 (from tensorflow.python.ops.math_ops) is deprecated and will be removed in a future version.\n",
      "Instructions for updating:\n",
      "Use tf.cast instead.\n",
      "Epoch 1/20\n",
      "1000/1000 [==============================] - 1s 734us/step - loss: 2.4085 - acc: 0.0960\n",
      "Epoch 2/20\n",
      "1000/1000 [==============================] - 0s 46us/step - loss: 2.3531 - acc: 0.1200\n",
      "Epoch 3/20\n",
      "1000/1000 [==============================] - 0s 43us/step - loss: 2.3479 - acc: 0.0970\n",
      "Epoch 4/20\n",
      "1000/1000 [==============================] - 0s 44us/step - loss: 2.3276 - acc: 0.1120\n",
      "Epoch 5/20\n",
      "1000/1000 [==============================] - 0s 43us/step - loss: 2.3232 - acc: 0.1160\n",
      "Epoch 6/20\n",
      "1000/1000 [==============================] - 0s 42us/step - loss: 2.3183 - acc: 0.1200\n",
      "Epoch 7/20\n",
      "1000/1000 [==============================] - 0s 42us/step - loss: 2.3068 - acc: 0.1110\n",
      "Epoch 8/20\n",
      "1000/1000 [==============================] - 0s 41us/step - loss: 2.3175 - acc: 0.1190\n",
      "Epoch 9/20\n",
      "1000/1000 [==============================] - 0s 42us/step - loss: 2.3107 - acc: 0.1010\n",
      "Epoch 10/20\n",
      "1000/1000 [==============================] - 0s 42us/step - loss: 2.3060 - acc: 0.1050\n",
      "Epoch 11/20\n",
      "1000/1000 [==============================] - 0s 41us/step - loss: 2.3044 - acc: 0.1090\n",
      "Epoch 12/20\n",
      "1000/1000 [==============================] - 0s 43us/step - loss: 2.3041 - acc: 0.1170\n",
      "Epoch 13/20\n",
      "1000/1000 [==============================] - 0s 41us/step - loss: 2.3065 - acc: 0.1110\n",
      "Epoch 14/20\n",
      "1000/1000 [==============================] - 0s 43us/step - loss: 2.2964 - acc: 0.1110\n",
      "Epoch 15/20\n",
      "1000/1000 [==============================] - 0s 41us/step - loss: 2.3052 - acc: 0.1130\n",
      "Epoch 16/20\n",
      "1000/1000 [==============================] - 0s 41us/step - loss: 2.3016 - acc: 0.1230\n",
      "Epoch 17/20\n",
      "1000/1000 [==============================] - 0s 42us/step - loss: 2.2960 - acc: 0.1170\n",
      "Epoch 18/20\n",
      "1000/1000 [==============================] - 0s 42us/step - loss: 2.3010 - acc: 0.1200\n",
      "Epoch 19/20\n",
      "1000/1000 [==============================] - 0s 41us/step - loss: 2.2926 - acc: 0.1210\n",
      "Epoch 20/20\n",
      "1000/1000 [==============================] - 0s 42us/step - loss: 2.2936 - acc: 0.1230\n"
     ]
    },
    {
     "data": {
      "text/plain": [
       "<keras.callbacks.History at 0xb43a8f438>"
      ]
     },
     "execution_count": 6,
     "metadata": {},
     "output_type": "execute_result"
    }
   ],
   "source": [
    "model.fit(x_train, y_train, epochs=20, batch_size=128)"
   ]
  },
  {
   "cell_type": "markdown",
   "metadata": {},
   "source": [
    "### Testing"
   ]
  },
  {
   "cell_type": "code",
   "execution_count": 7,
   "metadata": {},
   "outputs": [
    {
     "name": "stdout",
     "output_type": "stream",
     "text": [
      "100/100 [==============================] - 0s 1ms/step\n",
      "[2.302109718322754, 0.10999999940395355]\n"
     ]
    }
   ],
   "source": [
    "score = model.evaluate(x_test, y_test, batch_size=128)\n",
    "print(score)"
   ]
  },
  {
   "cell_type": "markdown",
   "metadata": {},
   "source": [
    "Program Completed"
   ]
  }
 ],
 "metadata": {
  "kernelspec": {
   "display_name": "Python 3",
   "language": "python",
   "name": "python3"
  },
  "language_info": {
   "codemirror_mode": {
    "name": "ipython",
    "version": 3
   },
   "file_extension": ".py",
   "mimetype": "text/x-python",
   "name": "python",
   "nbconvert_exporter": "python",
   "pygments_lexer": "ipython3",
   "version": "3.7.3"
  }
 },
 "nbformat": 4,
 "nbformat_minor": 2
}
